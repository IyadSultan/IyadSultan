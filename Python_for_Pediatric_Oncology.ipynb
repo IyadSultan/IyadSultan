{
  "nbformat": 4,
  "nbformat_minor": 0,
  "metadata": {
    "colab": {
      "provenance": [],
      "toc_visible": true,
      "authorship_tag": "ABX9TyMRvlNNNokiWbtayt7oy/bO",
      "include_colab_link": true
    },
    "kernelspec": {
      "name": "python3",
      "display_name": "Python 3"
    },
    "language_info": {
      "name": "python"
    }
  },
  "cells": [
    {
      "cell_type": "markdown",
      "metadata": {
        "id": "view-in-github",
        "colab_type": "text"
      },
      "source": [
        "<a href=\"https://colab.research.google.com/github/IyadSultan/IyadSultan/blob/main/Python_for_Pediatric_Oncology.ipynb\" target=\"_parent\"><img src=\"https://colab.research.google.com/assets/colab-badge.svg\" alt=\"Open In Colab\"/></a>"
      ]
    },
    {
      "cell_type": "markdown",
      "source": [
        "# Python for Pediatric Oncology: Introductory Coding Workshop"
      ],
      "metadata": {
        "id": "ubtNZLjkaWL8"
      }
    },
    {
      "cell_type": "markdown",
      "source": [
        "## Variables\n",
        "Variables are like labeled containers for information. In medicine, you might put a patient’s age in one field, weight in another – in Python, you’d store these values in variables. A variable has a name and holds some value (number, text, etc.). You can then use that name to retrieve or change the value. For example, let's create a variable for a patient's age and another for their name:"
      ],
      "metadata": {
        "id": "oAPJLrvtaWAE"
      }
    },
    {
      "cell_type": "code",
      "source": [
        "# Storing patient info in variables\n",
        "patient_name = \"Alice\"\n",
        "patient_age = 7\n",
        "print(\"Patient name:\", patient_name)\n",
        "print(\"Patient age:\", patient_age)\n"
      ],
      "metadata": {
        "id": "3Ng0j4L1aVoL"
      },
      "execution_count": null,
      "outputs": []
    },
    {
      "cell_type": "markdown",
      "source": [
        "## Data types\n",
        "Python has several basic data types:\n",
        "Integers (int) for whole numbers (e.g., 7 for age).\n",
        "Floats for decimals (e.g., 7.5 for weight in kg perhaps).\n",
        "Strings (str) for text (e.g., \"Alice\" for a name or \"Stage I\" for a disease stage).\n",
        "Booleans (bool) for True/False values (e.g., True for has fever, False for no fever)."
      ],
      "metadata": {
        "id": "C_Mg8CvMcSAZ"
      }
    },
    {
      "cell_type": "markdown",
      "source": [
        "### Lists"
      ],
      "metadata": {
        "id": "IeDa0jK8a2jp"
      }
    },
    {
      "cell_type": "markdown",
      "source": [],
      "metadata": {
        "id": "CHvcX8oVanAj"
      }
    },
    {
      "cell_type": "code",
      "execution_count": null,
      "metadata": {
        "id": "NSLsx672YkJZ"
      },
      "outputs": [],
      "source": [
        "patient_names = [\"Alice\", \"Bob\", \"Charlie\"]\n",
        "temperatures = [36.6, 38.0, 39.4]  # in °C\n",
        "print(patient_names)\n",
        "print(\"First patient:\", patient_names[0])\n"
      ]
    },
    {
      "cell_type": "markdown",
      "source": [
        "### Exercise 1\n",
        "Generate a list of 10 random numbers (between 1 and 6) and print the first and last number"
      ],
      "metadata": {
        "id": "hg7A9FxMbAYI"
      }
    },
    {
      "cell_type": "code",
      "source": [
        "# prompt: Generate a list of 10 random numbers (between 1 and 6) and print the first and last number\n",
        "\n",
        "import random\n",
        "\n",
        "random_numbers = []\n",
        "for _ in range(10):\n",
        "  random_numbers.append(random.randint(1, 6))\n",
        "\n",
        "print(\"First number:\", random_numbers[0])\n",
        "print(\"Last number:\", random_numbers[-1])\n"
      ],
      "metadata": {
        "colab": {
          "base_uri": "https://localhost:8080/"
        },
        "id": "oNjI8-uzbDJu",
        "outputId": "5257973c-7e7f-4f38-fd97-a124bdbb714c"
      },
      "execution_count": 1,
      "outputs": [
        {
          "output_type": "stream",
          "name": "stdout",
          "text": [
            "First number: 6\n",
            "Last number: 5\n"
          ]
        }
      ]
    }
  ]
}